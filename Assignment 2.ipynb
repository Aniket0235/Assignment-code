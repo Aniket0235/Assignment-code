{
 "cells": [
  {
   "cell_type": "code",
   "execution_count": 2,
   "id": "34a3b682",
   "metadata": {},
   "outputs": [],
   "source": [
    "import pandas as pd\n",
    "import numpy as np\n",
    "\n"
   ]
  },
  {
   "cell_type": "code",
   "execution_count": 3,
   "id": "213df9c8",
   "metadata": {},
   "outputs": [],
   "source": [
    "data=pd.read_csv('Assignment Dataset/Sample.csv')"
   ]
  },
  {
   "cell_type": "code",
   "execution_count": 4,
   "id": "a944db5f",
   "metadata": {},
   "outputs": [
    {
     "name": "stdout",
     "output_type": "stream",
     "text": [
      "(4722, 11)\n"
     ]
    },
    {
     "data": {
      "text/html": [
       "<div>\n",
       "<style scoped>\n",
       "    .dataframe tbody tr th:only-of-type {\n",
       "        vertical-align: middle;\n",
       "    }\n",
       "\n",
       "    .dataframe tbody tr th {\n",
       "        vertical-align: top;\n",
       "    }\n",
       "\n",
       "    .dataframe thead th {\n",
       "        text-align: right;\n",
       "    }\n",
       "</style>\n",
       "<table border=\"1\" class=\"dataframe\">\n",
       "  <thead>\n",
       "    <tr style=\"text-align: right;\">\n",
       "      <th></th>\n",
       "      <th>Unnamed: 0</th>\n",
       "      <th>SEM 1 SGPA</th>\n",
       "      <th>SEM 1 KT</th>\n",
       "      <th>SEM 2 SGPA</th>\n",
       "      <th>SEM 2 KT</th>\n",
       "      <th>SEM 3 SGPA</th>\n",
       "      <th>SEM 3 KT</th>\n",
       "      <th>SEM 4 SGPA</th>\n",
       "      <th>SEM 4 KT</th>\n",
       "      <th>Attandance</th>\n",
       "      <th>label</th>\n",
       "    </tr>\n",
       "  </thead>\n",
       "  <tbody>\n",
       "    <tr>\n",
       "      <th>0</th>\n",
       "      <td>0</td>\n",
       "      <td>8.43</td>\n",
       "      <td>1</td>\n",
       "      <td>6.2</td>\n",
       "      <td>2</td>\n",
       "      <td>6.80</td>\n",
       "      <td>1</td>\n",
       "      <td>6.5</td>\n",
       "      <td>0</td>\n",
       "      <td>2</td>\n",
       "      <td>1</td>\n",
       "    </tr>\n",
       "    <tr>\n",
       "      <th>1</th>\n",
       "      <td>1</td>\n",
       "      <td>4.20</td>\n",
       "      <td>1</td>\n",
       "      <td>4.2</td>\n",
       "      <td>2</td>\n",
       "      <td>3.50</td>\n",
       "      <td>2</td>\n",
       "      <td>4.4</td>\n",
       "      <td>1</td>\n",
       "      <td>5</td>\n",
       "      <td>0</td>\n",
       "    </tr>\n",
       "    <tr>\n",
       "      <th>2</th>\n",
       "      <td>2</td>\n",
       "      <td>6.30</td>\n",
       "      <td>0</td>\n",
       "      <td>6.2</td>\n",
       "      <td>0</td>\n",
       "      <td>6.80</td>\n",
       "      <td>0</td>\n",
       "      <td>6.7</td>\n",
       "      <td>0</td>\n",
       "      <td>2</td>\n",
       "      <td>1</td>\n",
       "    </tr>\n",
       "    <tr>\n",
       "      <th>3</th>\n",
       "      <td>3</td>\n",
       "      <td>8.15</td>\n",
       "      <td>0</td>\n",
       "      <td>7.8</td>\n",
       "      <td>0</td>\n",
       "      <td>8.18</td>\n",
       "      <td>0</td>\n",
       "      <td>9.0</td>\n",
       "      <td>0</td>\n",
       "      <td>3</td>\n",
       "      <td>1</td>\n",
       "    </tr>\n",
       "    <tr>\n",
       "      <th>4</th>\n",
       "      <td>4</td>\n",
       "      <td>3.80</td>\n",
       "      <td>1</td>\n",
       "      <td>3.4</td>\n",
       "      <td>1</td>\n",
       "      <td>4.10</td>\n",
       "      <td>2</td>\n",
       "      <td>4.3</td>\n",
       "      <td>1</td>\n",
       "      <td>5</td>\n",
       "      <td>0</td>\n",
       "    </tr>\n",
       "  </tbody>\n",
       "</table>\n",
       "</div>"
      ],
      "text/plain": [
       "   Unnamed: 0  SEM 1 SGPA  SEM 1 KT  SEM 2 SGPA  SEM 2 KT  SEM 3 SGPA  \\\n",
       "0           0        8.43         1         6.2         2        6.80   \n",
       "1           1        4.20         1         4.2         2        3.50   \n",
       "2           2        6.30         0         6.2         0        6.80   \n",
       "3           3        8.15         0         7.8         0        8.18   \n",
       "4           4        3.80         1         3.4         1        4.10   \n",
       "\n",
       "   SEM 3 KT  SEM 4 SGPA  SEM 4 KT  Attandance  label  \n",
       "0         1         6.5         0           2      1  \n",
       "1         2         4.4         1           5      0  \n",
       "2         0         6.7         0           2      1  \n",
       "3         0         9.0         0           3      1  \n",
       "4         2         4.3         1           5      0  "
      ]
     },
     "execution_count": 4,
     "metadata": {},
     "output_type": "execute_result"
    }
   ],
   "source": [
    "print(data.shape)\n",
    "data.head()"
   ]
  },
  {
   "cell_type": "code",
   "execution_count": 5,
   "id": "a885b9d9",
   "metadata": {},
   "outputs": [
    {
     "name": "stdout",
     "output_type": "stream",
     "text": [
      "<class 'pandas.core.frame.DataFrame'>\n",
      "RangeIndex: 4722 entries, 0 to 4721\n",
      "Data columns (total 11 columns):\n",
      " #   Column      Non-Null Count  Dtype  \n",
      "---  ------      --------------  -----  \n",
      " 0   Unnamed: 0  4722 non-null   int64  \n",
      " 1   SEM 1 SGPA  4722 non-null   float64\n",
      " 2   SEM 1 KT    4722 non-null   int64  \n",
      " 3   SEM 2 SGPA  4722 non-null   float64\n",
      " 4   SEM 2 KT    4722 non-null   int64  \n",
      " 5   SEM 3 SGPA  4722 non-null   float64\n",
      " 6   SEM 3 KT    4722 non-null   int64  \n",
      " 7   SEM 4 SGPA  4722 non-null   float64\n",
      " 8   SEM 4 KT    4722 non-null   int64  \n",
      " 9   Attandance  4722 non-null   int64  \n",
      " 10  label       4722 non-null   int64  \n",
      "dtypes: float64(4), int64(7)\n",
      "memory usage: 405.9 KB\n"
     ]
    }
   ],
   "source": [
    "data.info()"
   ]
  },
  {
   "cell_type": "code",
   "execution_count": 6,
   "id": "06fb85fe",
   "metadata": {},
   "outputs": [
    {
     "data": {
      "text/plain": [
       "Unnamed: 0      int64\n",
       "SEM 1 SGPA    float64\n",
       "SEM 1 KT        int64\n",
       "SEM 2 SGPA    float64\n",
       "SEM 2 KT        int64\n",
       "SEM 3 SGPA    float64\n",
       "SEM 3 KT        int64\n",
       "SEM 4 SGPA    float64\n",
       "SEM 4 KT        int64\n",
       "Attandance      int64\n",
       "label           int64\n",
       "dtype: object"
      ]
     },
     "execution_count": 6,
     "metadata": {},
     "output_type": "execute_result"
    }
   ],
   "source": [
    "data.dtypes"
   ]
  },
  {
   "cell_type": "code",
   "execution_count": 7,
   "id": "0fd2abe6",
   "metadata": {},
   "outputs": [
    {
     "data": {
      "text/html": [
       "<div>\n",
       "<style scoped>\n",
       "    .dataframe tbody tr th:only-of-type {\n",
       "        vertical-align: middle;\n",
       "    }\n",
       "\n",
       "    .dataframe tbody tr th {\n",
       "        vertical-align: top;\n",
       "    }\n",
       "\n",
       "    .dataframe thead th {\n",
       "        text-align: right;\n",
       "    }\n",
       "</style>\n",
       "<table border=\"1\" class=\"dataframe\">\n",
       "  <thead>\n",
       "    <tr style=\"text-align: right;\">\n",
       "      <th></th>\n",
       "      <th>Unnamed: 0</th>\n",
       "      <th>SEM 1 SGPA</th>\n",
       "      <th>SEM 1 KT</th>\n",
       "      <th>SEM 2 SGPA</th>\n",
       "      <th>SEM 2 KT</th>\n",
       "      <th>SEM 3 SGPA</th>\n",
       "      <th>SEM 3 KT</th>\n",
       "      <th>SEM 4 SGPA</th>\n",
       "      <th>SEM 4 KT</th>\n",
       "      <th>Attandance</th>\n",
       "      <th>label</th>\n",
       "    </tr>\n",
       "  </thead>\n",
       "  <tbody>\n",
       "    <tr>\n",
       "      <th>count</th>\n",
       "      <td>4722.000000</td>\n",
       "      <td>4722.000000</td>\n",
       "      <td>4722.000000</td>\n",
       "      <td>4722.000000</td>\n",
       "      <td>4722.000000</td>\n",
       "      <td>4722.000000</td>\n",
       "      <td>4722.000000</td>\n",
       "      <td>4722.000000</td>\n",
       "      <td>4722.000000</td>\n",
       "      <td>4722.000000</td>\n",
       "      <td>4722.000000</td>\n",
       "    </tr>\n",
       "    <tr>\n",
       "      <th>mean</th>\n",
       "      <td>2360.500000</td>\n",
       "      <td>5.985487</td>\n",
       "      <td>0.793731</td>\n",
       "      <td>5.991089</td>\n",
       "      <td>0.857264</td>\n",
       "      <td>5.877209</td>\n",
       "      <td>0.818721</td>\n",
       "      <td>5.943276</td>\n",
       "      <td>0.526260</td>\n",
       "      <td>3.412537</td>\n",
       "      <td>0.610970</td>\n",
       "    </tr>\n",
       "    <tr>\n",
       "      <th>std</th>\n",
       "      <td>1363.268315</td>\n",
       "      <td>1.792330</td>\n",
       "      <td>0.938830</td>\n",
       "      <td>1.807752</td>\n",
       "      <td>0.912131</td>\n",
       "      <td>1.699678</td>\n",
       "      <td>0.922411</td>\n",
       "      <td>1.769925</td>\n",
       "      <td>0.834955</td>\n",
       "      <td>1.402360</td>\n",
       "      <td>0.487582</td>\n",
       "    </tr>\n",
       "    <tr>\n",
       "      <th>min</th>\n",
       "      <td>0.000000</td>\n",
       "      <td>3.200000</td>\n",
       "      <td>0.000000</td>\n",
       "      <td>3.200000</td>\n",
       "      <td>0.000000</td>\n",
       "      <td>3.200000</td>\n",
       "      <td>0.000000</td>\n",
       "      <td>3.100000</td>\n",
       "      <td>0.000000</td>\n",
       "      <td>1.000000</td>\n",
       "      <td>0.000000</td>\n",
       "    </tr>\n",
       "    <tr>\n",
       "      <th>25%</th>\n",
       "      <td>1180.250000</td>\n",
       "      <td>4.200000</td>\n",
       "      <td>0.000000</td>\n",
       "      <td>4.210000</td>\n",
       "      <td>0.000000</td>\n",
       "      <td>4.280000</td>\n",
       "      <td>0.000000</td>\n",
       "      <td>4.250000</td>\n",
       "      <td>0.000000</td>\n",
       "      <td>2.000000</td>\n",
       "      <td>0.000000</td>\n",
       "    </tr>\n",
       "    <tr>\n",
       "      <th>50%</th>\n",
       "      <td>2360.500000</td>\n",
       "      <td>6.000000</td>\n",
       "      <td>1.000000</td>\n",
       "      <td>6.000000</td>\n",
       "      <td>1.000000</td>\n",
       "      <td>5.900000</td>\n",
       "      <td>1.000000</td>\n",
       "      <td>6.000000</td>\n",
       "      <td>0.000000</td>\n",
       "      <td>3.000000</td>\n",
       "      <td>1.000000</td>\n",
       "    </tr>\n",
       "    <tr>\n",
       "      <th>75%</th>\n",
       "      <td>3540.750000</td>\n",
       "      <td>7.500000</td>\n",
       "      <td>1.000000</td>\n",
       "      <td>7.420000</td>\n",
       "      <td>2.000000</td>\n",
       "      <td>7.200000</td>\n",
       "      <td>1.750000</td>\n",
       "      <td>7.300000</td>\n",
       "      <td>1.000000</td>\n",
       "      <td>5.000000</td>\n",
       "      <td>1.000000</td>\n",
       "    </tr>\n",
       "    <tr>\n",
       "      <th>max</th>\n",
       "      <td>4721.000000</td>\n",
       "      <td>9.580000</td>\n",
       "      <td>4.000000</td>\n",
       "      <td>10.000000</td>\n",
       "      <td>3.000000</td>\n",
       "      <td>10.000000</td>\n",
       "      <td>4.000000</td>\n",
       "      <td>9.800000</td>\n",
       "      <td>3.000000</td>\n",
       "      <td>5.000000</td>\n",
       "      <td>1.000000</td>\n",
       "    </tr>\n",
       "  </tbody>\n",
       "</table>\n",
       "</div>"
      ],
      "text/plain": [
       "        Unnamed: 0   SEM 1 SGPA     SEM 1 KT   SEM 2 SGPA     SEM 2 KT  \\\n",
       "count  4722.000000  4722.000000  4722.000000  4722.000000  4722.000000   \n",
       "mean   2360.500000     5.985487     0.793731     5.991089     0.857264   \n",
       "std    1363.268315     1.792330     0.938830     1.807752     0.912131   \n",
       "min       0.000000     3.200000     0.000000     3.200000     0.000000   \n",
       "25%    1180.250000     4.200000     0.000000     4.210000     0.000000   \n",
       "50%    2360.500000     6.000000     1.000000     6.000000     1.000000   \n",
       "75%    3540.750000     7.500000     1.000000     7.420000     2.000000   \n",
       "max    4721.000000     9.580000     4.000000    10.000000     3.000000   \n",
       "\n",
       "        SEM 3 SGPA     SEM 3 KT   SEM 4 SGPA     SEM 4 KT   Attandance  \\\n",
       "count  4722.000000  4722.000000  4722.000000  4722.000000  4722.000000   \n",
       "mean      5.877209     0.818721     5.943276     0.526260     3.412537   \n",
       "std       1.699678     0.922411     1.769925     0.834955     1.402360   \n",
       "min       3.200000     0.000000     3.100000     0.000000     1.000000   \n",
       "25%       4.280000     0.000000     4.250000     0.000000     2.000000   \n",
       "50%       5.900000     1.000000     6.000000     0.000000     3.000000   \n",
       "75%       7.200000     1.750000     7.300000     1.000000     5.000000   \n",
       "max      10.000000     4.000000     9.800000     3.000000     5.000000   \n",
       "\n",
       "             label  \n",
       "count  4722.000000  \n",
       "mean      0.610970  \n",
       "std       0.487582  \n",
       "min       0.000000  \n",
       "25%       0.000000  \n",
       "50%       1.000000  \n",
       "75%       1.000000  \n",
       "max       1.000000  "
      ]
     },
     "execution_count": 7,
     "metadata": {},
     "output_type": "execute_result"
    }
   ],
   "source": [
    "data.describe()\n"
   ]
  },
  {
   "cell_type": "code",
   "execution_count": 8,
   "id": "65771920",
   "metadata": {},
   "outputs": [
    {
     "data": {
      "text/plain": [
       "Unnamed: 0    0\n",
       "SEM 1 SGPA    0\n",
       "SEM 1 KT      0\n",
       "SEM 2 SGPA    0\n",
       "SEM 2 KT      0\n",
       "SEM 3 SGPA    0\n",
       "SEM 3 KT      0\n",
       "SEM 4 SGPA    0\n",
       "SEM 4 KT      0\n",
       "Attandance    0\n",
       "label         0\n",
       "dtype: int64"
      ]
     },
     "execution_count": 8,
     "metadata": {},
     "output_type": "execute_result"
    }
   ],
   "source": [
    "data.isnull().sum()"
   ]
  },
  {
   "cell_type": "code",
   "execution_count": 12,
   "id": "ba5dc8d6",
   "metadata": {},
   "outputs": [
    {
     "data": {
      "text/plain": [
       "array([8.43, 4.2 , 6.3 , 8.15, 3.8 , 5.6 , 7.3 , 4.54, 5.7 , 5.8 , 7.7 ,\n",
       "       6.6 , 6.91, 6.7 , 6.2 , 4.6 , 7.65, 4.16, 7.9 , 3.4 , 4.  , 5.65,\n",
       "       5.5 , 3.7 , 3.25, 6.15, 7.79, 9.16, 7.75, 8.25, 4.8 , 5.14, 8.19,\n",
       "       6.  , 4.7 , 7.  , 8.12, 4.5 , 7.68, 8.14, 4.79, 5.56, 9.05, 4.69,\n",
       "       6.9 , 7.87, 7.1 , 6.12, 7.4 , 7.74, 9.  , 8.2 , 8.3 , 6.67, 5.67,\n",
       "       7.89, 5.1 , 8.67, 4.3 , 5.57, 9.52, 5.75, 8.78, 7.41, 6.69, 6.63,\n",
       "       7.5 , 8.89, 5.9 , 4.1 , 3.6 , 9.21, 7.56, 7.04, 7.2 , 6.89, 3.9 ,\n",
       "       6.5 , 4.4 , 6.98, 4.9 , 6.1 , 3.5 , 3.2 , 4.34, 4.33, 4.32, 7.6 ,\n",
       "       9.08, 9.48, 4.89, 8.71, 4.64, 8.32, 5.93, 7.8 , 7.93, 8.  , 6.53,\n",
       "       4.27, 4.97, 4.66, 7.11, 4.25, 9.42, 4.78, 4.87, 8.54, 9.58, 8.57,\n",
       "       7.22, 4.24, 9.12, 7.44, 6.19, 4.85, 6.51, 6.95, 4.93, 7.07])"
      ]
     },
     "execution_count": 12,
     "metadata": {},
     "output_type": "execute_result"
    }
   ],
   "source": [
    "data['SEM 1 SGPA'].unique()"
   ]
  },
  {
   "cell_type": "code",
   "execution_count": 13,
   "id": "d6527189",
   "metadata": {},
   "outputs": [
    {
     "data": {
      "text/plain": [
       "5    1648\n",
       "3    1093\n",
       "2     907\n",
       "4     569\n",
       "1     505\n",
       "Name: Attandance, dtype: int64"
      ]
     },
     "execution_count": 13,
     "metadata": {},
     "output_type": "execute_result"
    }
   ],
   "source": [
    "data['Attandance'].value_counts()"
   ]
  },
  {
   "cell_type": "code",
   "execution_count": 14,
   "id": "04babdec",
   "metadata": {},
   "outputs": [
    {
     "data": {
      "text/plain": [
       "array([2, 5, 3, 1, 4], dtype=int64)"
      ]
     },
     "execution_count": 14,
     "metadata": {},
     "output_type": "execute_result"
    }
   ],
   "source": [
    "data['Attandance'].unique()"
   ]
  },
  {
   "cell_type": "code",
   "execution_count": null,
   "id": "f9fa96f9",
   "metadata": {},
   "outputs": [],
   "source": []
  }
 ],
 "metadata": {
  "kernelspec": {
   "display_name": "Python 3 (ipykernel)",
   "language": "python",
   "name": "python3"
  },
  "language_info": {
   "codemirror_mode": {
    "name": "ipython",
    "version": 3
   },
   "file_extension": ".py",
   "mimetype": "text/x-python",
   "name": "python",
   "nbconvert_exporter": "python",
   "pygments_lexer": "ipython3",
   "version": "3.9.7"
  }
 },
 "nbformat": 4,
 "nbformat_minor": 5
}
