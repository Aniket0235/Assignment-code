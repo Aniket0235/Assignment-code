{
 "cells": [
  {
   "cell_type": "code",
   "execution_count": 2,
   "id": "e719629a",
   "metadata": {},
   "outputs": [],
   "source": [
    "import pandas as pd\n",
    "import numpy as np\n",
    "import matplotlib.pyplot as plt  #use for visulatization\n",
    "import seaborn as sns    \n",
    "%matplotlib inline"
   ]
  },
  {
   "cell_type": "code",
   "execution_count": 3,
   "id": "92a9df62",
   "metadata": {},
   "outputs": [],
   "source": [
    "train_original=pd.read_csv(\"Assignment Dataset/train_u6lujuX_CVtuZ9i.csv\")\n",
    "test_original=pd.read_csv(\"Assignment Dataset/test_Y3wMUE5_7gLdaTN.csv\")"
   ]
  },
  {
   "cell_type": "code",
   "execution_count": 5,
   "id": "6c80a8d0",
   "metadata": {},
   "outputs": [],
   "source": [
    "train=train_original.copy()\n",
    "test=test_original.copy()"
   ]
  },
  {
   "cell_type": "code",
   "execution_count": 10,
   "id": "71ae6b88",
   "metadata": {},
   "outputs": [
    {
     "data": {
      "text/html": [
       "<div>\n",
       "<style scoped>\n",
       "    .dataframe tbody tr th:only-of-type {\n",
       "        vertical-align: middle;\n",
       "    }\n",
       "\n",
       "    .dataframe tbody tr th {\n",
       "        vertical-align: top;\n",
       "    }\n",
       "\n",
       "    .dataframe thead th {\n",
       "        text-align: right;\n",
       "    }\n",
       "</style>\n",
       "<table border=\"1\" class=\"dataframe\">\n",
       "  <thead>\n",
       "    <tr style=\"text-align: right;\">\n",
       "      <th></th>\n",
       "      <th>ApplicantIncome</th>\n",
       "      <th>CoapplicantIncome</th>\n",
       "      <th>LoanAmount</th>\n",
       "      <th>Loan_Amount_Term</th>\n",
       "      <th>Credit_History</th>\n",
       "    </tr>\n",
       "  </thead>\n",
       "  <tbody>\n",
       "    <tr>\n",
       "      <th>count</th>\n",
       "      <td>614.000000</td>\n",
       "      <td>614.000000</td>\n",
       "      <td>592.000000</td>\n",
       "      <td>600.00000</td>\n",
       "      <td>564.000000</td>\n",
       "    </tr>\n",
       "    <tr>\n",
       "      <th>mean</th>\n",
       "      <td>5403.459283</td>\n",
       "      <td>1621.245798</td>\n",
       "      <td>146.412162</td>\n",
       "      <td>342.00000</td>\n",
       "      <td>0.842199</td>\n",
       "    </tr>\n",
       "    <tr>\n",
       "      <th>std</th>\n",
       "      <td>6109.041673</td>\n",
       "      <td>2926.248369</td>\n",
       "      <td>85.587325</td>\n",
       "      <td>65.12041</td>\n",
       "      <td>0.364878</td>\n",
       "    </tr>\n",
       "    <tr>\n",
       "      <th>min</th>\n",
       "      <td>150.000000</td>\n",
       "      <td>0.000000</td>\n",
       "      <td>9.000000</td>\n",
       "      <td>12.00000</td>\n",
       "      <td>0.000000</td>\n",
       "    </tr>\n",
       "    <tr>\n",
       "      <th>25%</th>\n",
       "      <td>2877.500000</td>\n",
       "      <td>0.000000</td>\n",
       "      <td>100.000000</td>\n",
       "      <td>360.00000</td>\n",
       "      <td>1.000000</td>\n",
       "    </tr>\n",
       "    <tr>\n",
       "      <th>50%</th>\n",
       "      <td>3812.500000</td>\n",
       "      <td>1188.500000</td>\n",
       "      <td>128.000000</td>\n",
       "      <td>360.00000</td>\n",
       "      <td>1.000000</td>\n",
       "    </tr>\n",
       "    <tr>\n",
       "      <th>75%</th>\n",
       "      <td>5795.000000</td>\n",
       "      <td>2297.250000</td>\n",
       "      <td>168.000000</td>\n",
       "      <td>360.00000</td>\n",
       "      <td>1.000000</td>\n",
       "    </tr>\n",
       "    <tr>\n",
       "      <th>max</th>\n",
       "      <td>81000.000000</td>\n",
       "      <td>41667.000000</td>\n",
       "      <td>700.000000</td>\n",
       "      <td>480.00000</td>\n",
       "      <td>1.000000</td>\n",
       "    </tr>\n",
       "  </tbody>\n",
       "</table>\n",
       "</div>"
      ],
      "text/plain": [
       "       ApplicantIncome  CoapplicantIncome  LoanAmount  Loan_Amount_Term  \\\n",
       "count       614.000000         614.000000  592.000000         600.00000   \n",
       "mean       5403.459283        1621.245798  146.412162         342.00000   \n",
       "std        6109.041673        2926.248369   85.587325          65.12041   \n",
       "min         150.000000           0.000000    9.000000          12.00000   \n",
       "25%        2877.500000           0.000000  100.000000         360.00000   \n",
       "50%        3812.500000        1188.500000  128.000000         360.00000   \n",
       "75%        5795.000000        2297.250000  168.000000         360.00000   \n",
       "max       81000.000000       41667.000000  700.000000         480.00000   \n",
       "\n",
       "       Credit_History  \n",
       "count      564.000000  \n",
       "mean         0.842199  \n",
       "std          0.364878  \n",
       "min          0.000000  \n",
       "25%          1.000000  \n",
       "50%          1.000000  \n",
       "75%          1.000000  \n",
       "max          1.000000  "
      ]
     },
     "execution_count": 10,
     "metadata": {},
     "output_type": "execute_result"
    }
   ],
   "source": [
    "train.describe()"
   ]
  },
  {
   "cell_type": "code",
   "execution_count": 6,
   "id": "2ccf35b0",
   "metadata": {},
   "outputs": [
    {
     "data": {
      "text/plain": [
       "Loan_ID               object\n",
       "Gender                object\n",
       "Married               object\n",
       "Dependents            object\n",
       "Education             object\n",
       "Self_Employed         object\n",
       "ApplicantIncome        int64\n",
       "CoapplicantIncome    float64\n",
       "LoanAmount           float64\n",
       "Loan_Amount_Term     float64\n",
       "Credit_History       float64\n",
       "Property_Area         object\n",
       "Loan_Status           object\n",
       "dtype: object"
      ]
     },
     "execution_count": 6,
     "metadata": {},
     "output_type": "execute_result"
    }
   ],
   "source": [
    "train.dtypes"
   ]
  },
  {
   "cell_type": "code",
   "execution_count": 7,
   "id": "7e26ffb8",
   "metadata": {},
   "outputs": [
    {
     "data": {
      "text/html": [
       "<div>\n",
       "<style scoped>\n",
       "    .dataframe tbody tr th:only-of-type {\n",
       "        vertical-align: middle;\n",
       "    }\n",
       "\n",
       "    .dataframe tbody tr th {\n",
       "        vertical-align: top;\n",
       "    }\n",
       "\n",
       "    .dataframe thead th {\n",
       "        text-align: right;\n",
       "    }\n",
       "</style>\n",
       "<table border=\"1\" class=\"dataframe\">\n",
       "  <thead>\n",
       "    <tr style=\"text-align: right;\">\n",
       "      <th></th>\n",
       "      <th>ApplicantIncome</th>\n",
       "      <th>CoapplicantIncome</th>\n",
       "      <th>LoanAmount</th>\n",
       "      <th>Loan_Amount_Term</th>\n",
       "      <th>Credit_History</th>\n",
       "    </tr>\n",
       "    <tr>\n",
       "      <th>Gender</th>\n",
       "      <th></th>\n",
       "      <th></th>\n",
       "      <th></th>\n",
       "      <th></th>\n",
       "      <th></th>\n",
       "    </tr>\n",
       "  </thead>\n",
       "  <tbody>\n",
       "    <tr>\n",
       "      <th>Female</th>\n",
       "      <td>4643.473214</td>\n",
       "      <td>1108.008929</td>\n",
       "      <td>126.697248</td>\n",
       "      <td>352.293578</td>\n",
       "      <td>0.831683</td>\n",
       "    </tr>\n",
       "    <tr>\n",
       "      <th>Male</th>\n",
       "      <td>5446.460123</td>\n",
       "      <td>1742.932352</td>\n",
       "      <td>149.265957</td>\n",
       "      <td>339.665272</td>\n",
       "      <td>0.847007</td>\n",
       "    </tr>\n",
       "  </tbody>\n",
       "</table>\n",
       "</div>"
      ],
      "text/plain": [
       "        ApplicantIncome  CoapplicantIncome  LoanAmount  Loan_Amount_Term  \\\n",
       "Gender                                                                     \n",
       "Female      4643.473214        1108.008929  126.697248        352.293578   \n",
       "Male        5446.460123        1742.932352  149.265957        339.665272   \n",
       "\n",
       "        Credit_History  \n",
       "Gender                  \n",
       "Female        0.831683  \n",
       "Male          0.847007  "
      ]
     },
     "execution_count": 7,
     "metadata": {},
     "output_type": "execute_result"
    }
   ],
   "source": [
    "train.groupby(train['Gender']).mean()"
   ]
  },
  {
   "cell_type": "code",
   "execution_count": 8,
   "id": "efd3c7d7",
   "metadata": {},
   "outputs": [
    {
     "data": {
      "text/plain": [
       "Male      489\n",
       "Female    112\n",
       "Name: Gender, dtype: int64"
      ]
     },
     "execution_count": 8,
     "metadata": {},
     "output_type": "execute_result"
    }
   ],
   "source": [
    "train['Gender'].value_counts()"
   ]
  },
  {
   "cell_type": "code",
   "execution_count": 12,
   "id": "9462427c",
   "metadata": {},
   "outputs": [],
   "source": [
    "l=train.groupby(train['Gender']).describe()"
   ]
  },
  {
   "cell_type": "code",
   "execution_count": 13,
   "id": "8eb3fd7d",
   "metadata": {},
   "outputs": [
    {
     "name": "stdout",
     "output_type": "stream",
     "text": [
      "        count         mean          std    min     25%     50%     75%  \\\n",
      "Gender                                                                   \n",
      "Female  112.0  4643.473214  3585.381488  210.0  2661.5  3583.0  4606.5   \n",
      "Male    489.0  5446.460123  6185.789262  150.0  2917.0  3865.0  5923.0   \n",
      "\n",
      "            max  \n",
      "Gender           \n",
      "Female  19484.0  \n",
      "Male    81000.0  \n"
     ]
    }
   ],
   "source": [
    "print(l['ApplicantIncome'])"
   ]
  },
  {
   "cell_type": "code",
   "execution_count": 15,
   "id": "1d720874",
   "metadata": {},
   "outputs": [
    {
     "data": {
      "text/plain": [
       "Yes    398\n",
       "No     213\n",
       "Name: Married, dtype: int64"
      ]
     },
     "execution_count": 15,
     "metadata": {},
     "output_type": "execute_result"
    }
   ],
   "source": [
    "train['Married'].value_counts()"
   ]
  },
  {
   "cell_type": "code",
   "execution_count": 16,
   "id": "dfa2893b",
   "metadata": {},
   "outputs": [
    {
     "data": {
      "text/html": [
       "<div>\n",
       "<style scoped>\n",
       "    .dataframe tbody tr th:only-of-type {\n",
       "        vertical-align: middle;\n",
       "    }\n",
       "\n",
       "    .dataframe tbody tr th {\n",
       "        vertical-align: top;\n",
       "    }\n",
       "\n",
       "    .dataframe thead th {\n",
       "        text-align: right;\n",
       "    }\n",
       "</style>\n",
       "<table border=\"1\" class=\"dataframe\">\n",
       "  <thead>\n",
       "    <tr style=\"text-align: right;\">\n",
       "      <th></th>\n",
       "      <th>ApplicantIncome</th>\n",
       "      <th>CoapplicantIncome</th>\n",
       "      <th>LoanAmount</th>\n",
       "      <th>Loan_Amount_Term</th>\n",
       "      <th>Credit_History</th>\n",
       "    </tr>\n",
       "    <tr>\n",
       "      <th>Married</th>\n",
       "      <th></th>\n",
       "      <th></th>\n",
       "      <th></th>\n",
       "      <th></th>\n",
       "      <th></th>\n",
       "    </tr>\n",
       "  </thead>\n",
       "  <tbody>\n",
       "    <tr>\n",
       "      <th>No</th>\n",
       "      <td>4970.384977</td>\n",
       "      <td>1316.558685</td>\n",
       "      <td>128.883495</td>\n",
       "      <td>351.115385</td>\n",
       "      <td>0.839196</td>\n",
       "    </tr>\n",
       "    <tr>\n",
       "      <th>Yes</th>\n",
       "      <td>5629.173367</td>\n",
       "      <td>1794.632965</td>\n",
       "      <td>155.750000</td>\n",
       "      <td>336.987147</td>\n",
       "      <td>0.842541</td>\n",
       "    </tr>\n",
       "  </tbody>\n",
       "</table>\n",
       "</div>"
      ],
      "text/plain": [
       "         ApplicantIncome  CoapplicantIncome  LoanAmount  Loan_Amount_Term  \\\n",
       "Married                                                                     \n",
       "No           4970.384977        1316.558685  128.883495        351.115385   \n",
       "Yes          5629.173367        1794.632965  155.750000        336.987147   \n",
       "\n",
       "         Credit_History  \n",
       "Married                  \n",
       "No             0.839196  \n",
       "Yes            0.842541  "
      ]
     },
     "execution_count": 16,
     "metadata": {},
     "output_type": "execute_result"
    }
   ],
   "source": [
    "train.groupby(train['Married']).mean()"
   ]
  },
  {
   "cell_type": "code",
   "execution_count": 17,
   "id": "0487f293",
   "metadata": {},
   "outputs": [],
   "source": [
    "import os"
   ]
  },
  {
   "cell_type": "code",
   "execution_count": 20,
   "id": "dd62aa34",
   "metadata": {},
   "outputs": [
    {
     "data": {
      "text/plain": [
       "['.android',\n",
       " '.bash_history',\n",
       " '.cache',\n",
       " '.conda',\n",
       " '.condarc',\n",
       " '.config',\n",
       " '.continuum',\n",
       " '.dbshell',\n",
       " '.firebase',\n",
       " '.firebaserc',\n",
       " '.git',\n",
       " '.git-for-windows-updater',\n",
       " '.gitconfig',\n",
       " '.gitignore',\n",
       " '.idlerc',\n",
       " '.ipynb_checkpoints',\n",
       " '.ipython',\n",
       " '.jdks',\n",
       " '.jupyter',\n",
       " '.lesshst',\n",
       " '.matplotlib',\n",
       " '.mongorc.js',\n",
       " '.node_repl_history',\n",
       " '.pylint.d',\n",
       " '.ssh',\n",
       " '.vscode',\n",
       " '2)',\n",
       " '3D Objects',\n",
       " 'anaconda3',\n",
       " 'AppData',\n",
       " 'Application Data',\n",
       " 'Assignment 1.ipynb',\n",
       " 'Assignment 3 demo.ipynb',\n",
       " 'Assignment Dataset',\n",
       " 'Assignment_2.ipynb',\n",
       " 'Contacts',\n",
       " 'Cookies',\n",
       " 'Documents',\n",
       " 'Downloads',\n",
       " 'DW-1.ipynb',\n",
       " 'Favorites',\n",
       " 'firebase.json',\n",
       " 'IdeaProjects',\n",
       " 'IntelGraphicsProfiles',\n",
       " 'Iris.csv',\n",
       " 'java_error_in_pycharm64_1604.log',\n",
       " 'Links',\n",
       " 'LoanPredication.ipynb',\n",
       " 'Local Settings',\n",
       " 'MicrosoftEdgeBackups',\n",
       " 'Music',\n",
       " 'My Documents',\n",
       " 'mysql',\n",
       " 'NetHood',\n",
       " 'node_modules',\n",
       " 'NTUSER.DAT',\n",
       " 'ntuser.dat.LOG1',\n",
       " 'ntuser.dat.LOG2',\n",
       " 'NTUSER.DAT{1c2b59c6-c5f5-11eb-bacb-000d3a96488e}.TM.blf',\n",
       " 'NTUSER.DAT{1c2b59c6-c5f5-11eb-bacb-000d3a96488e}.TMContainer00000000000000000001.regtrans-ms',\n",
       " 'NTUSER.DAT{1c2b59c6-c5f5-11eb-bacb-000d3a96488e}.TMContainer00000000000000000002.regtrans-ms',\n",
       " 'ntuser.ini',\n",
       " 'numpy function.ipynb',\n",
       " 'numpy tut.ipynb',\n",
       " 'OneDrive',\n",
       " 'Oracle',\n",
       " 'package-lock.json',\n",
       " 'package.json',\n",
       " 'pandas.ipynb',\n",
       " 'Postman',\n",
       " 'print.py',\n",
       " 'PrintHood',\n",
       " 'public',\n",
       " 'PycharmProjects',\n",
       " 'Recent',\n",
       " 'Saved Games',\n",
       " 'Searches',\n",
       " 'SendTo',\n",
       " 'Start Menu',\n",
       " 'Student Perforamnce.ipynb',\n",
       " 'Templates',\n",
       " 'Untitled.ipynb',\n",
       " 'Untitled1.ipynb',\n",
       " 'Videos',\n",
       " '_netrc']"
      ]
     },
     "execution_count": 20,
     "metadata": {},
     "output_type": "execute_result"
    }
   ],
   "source": [
    "os.listdir()"
   ]
  },
  {
   "cell_type": "code",
   "execution_count": 21,
   "id": "069cb9f1",
   "metadata": {},
   "outputs": [],
   "source": [
    "df=pd.read_csv('Iris.csv')"
   ]
  },
  {
   "cell_type": "code",
   "execution_count": 22,
   "id": "cd6641ab",
   "metadata": {},
   "outputs": [
    {
     "data": {
      "text/plain": [
       "(150, 6)"
      ]
     },
     "execution_count": 22,
     "metadata": {},
     "output_type": "execute_result"
    }
   ],
   "source": [
    "df.shape"
   ]
  },
  {
   "cell_type": "code",
   "execution_count": 23,
   "id": "ddfe83c3",
   "metadata": {},
   "outputs": [
    {
     "data": {
      "text/plain": [
       "Id                 int64\n",
       "SepalLengthCm    float64\n",
       "SepalWidthCm     float64\n",
       "PetalLengthCm    float64\n",
       "PetalWidthCm     float64\n",
       "Species           object\n",
       "dtype: object"
      ]
     },
     "execution_count": 23,
     "metadata": {},
     "output_type": "execute_result"
    }
   ],
   "source": [
    "df.dtypes"
   ]
  },
  {
   "cell_type": "code",
   "execution_count": 24,
   "id": "8c53ab40",
   "metadata": {},
   "outputs": [
    {
     "data": {
      "text/plain": [
       "Iris-setosa        50\n",
       "Iris-versicolor    50\n",
       "Iris-virginica     50\n",
       "Name: Species, dtype: int64"
      ]
     },
     "execution_count": 24,
     "metadata": {},
     "output_type": "execute_result"
    }
   ],
   "source": [
    "df['Species'].value_counts()"
   ]
  },
  {
   "cell_type": "code",
   "execution_count": 25,
   "id": "f312e45c",
   "metadata": {},
   "outputs": [
    {
     "data": {
      "text/html": [
       "<div>\n",
       "<style scoped>\n",
       "    .dataframe tbody tr th:only-of-type {\n",
       "        vertical-align: middle;\n",
       "    }\n",
       "\n",
       "    .dataframe tbody tr th {\n",
       "        vertical-align: top;\n",
       "    }\n",
       "\n",
       "    .dataframe thead th {\n",
       "        text-align: right;\n",
       "    }\n",
       "</style>\n",
       "<table border=\"1\" class=\"dataframe\">\n",
       "  <thead>\n",
       "    <tr style=\"text-align: right;\">\n",
       "      <th></th>\n",
       "      <th>Id</th>\n",
       "      <th>SepalLengthCm</th>\n",
       "      <th>SepalWidthCm</th>\n",
       "      <th>PetalLengthCm</th>\n",
       "      <th>PetalWidthCm</th>\n",
       "      <th>Species</th>\n",
       "    </tr>\n",
       "  </thead>\n",
       "  <tbody>\n",
       "    <tr>\n",
       "      <th>0</th>\n",
       "      <td>1</td>\n",
       "      <td>5.1</td>\n",
       "      <td>3.5</td>\n",
       "      <td>1.4</td>\n",
       "      <td>0.2</td>\n",
       "      <td>Iris-setosa</td>\n",
       "    </tr>\n",
       "    <tr>\n",
       "      <th>1</th>\n",
       "      <td>2</td>\n",
       "      <td>4.9</td>\n",
       "      <td>3.0</td>\n",
       "      <td>1.4</td>\n",
       "      <td>0.2</td>\n",
       "      <td>Iris-setosa</td>\n",
       "    </tr>\n",
       "    <tr>\n",
       "      <th>2</th>\n",
       "      <td>3</td>\n",
       "      <td>4.7</td>\n",
       "      <td>3.2</td>\n",
       "      <td>1.3</td>\n",
       "      <td>0.2</td>\n",
       "      <td>Iris-setosa</td>\n",
       "    </tr>\n",
       "    <tr>\n",
       "      <th>3</th>\n",
       "      <td>4</td>\n",
       "      <td>4.6</td>\n",
       "      <td>3.1</td>\n",
       "      <td>1.5</td>\n",
       "      <td>0.2</td>\n",
       "      <td>Iris-setosa</td>\n",
       "    </tr>\n",
       "    <tr>\n",
       "      <th>4</th>\n",
       "      <td>5</td>\n",
       "      <td>5.0</td>\n",
       "      <td>3.6</td>\n",
       "      <td>1.4</td>\n",
       "      <td>0.2</td>\n",
       "      <td>Iris-setosa</td>\n",
       "    </tr>\n",
       "  </tbody>\n",
       "</table>\n",
       "</div>"
      ],
      "text/plain": [
       "   Id  SepalLengthCm  SepalWidthCm  PetalLengthCm  PetalWidthCm      Species\n",
       "0   1            5.1           3.5            1.4           0.2  Iris-setosa\n",
       "1   2            4.9           3.0            1.4           0.2  Iris-setosa\n",
       "2   3            4.7           3.2            1.3           0.2  Iris-setosa\n",
       "3   4            4.6           3.1            1.5           0.2  Iris-setosa\n",
       "4   5            5.0           3.6            1.4           0.2  Iris-setosa"
      ]
     },
     "execution_count": 25,
     "metadata": {},
     "output_type": "execute_result"
    }
   ],
   "source": [
    "df.head()"
   ]
  },
  {
   "cell_type": "code",
   "execution_count": 26,
   "id": "139176bf",
   "metadata": {},
   "outputs": [
    {
     "data": {
      "text/html": [
       "<div>\n",
       "<style scoped>\n",
       "    .dataframe tbody tr th:only-of-type {\n",
       "        vertical-align: middle;\n",
       "    }\n",
       "\n",
       "    .dataframe tbody tr th {\n",
       "        vertical-align: top;\n",
       "    }\n",
       "\n",
       "    .dataframe thead th {\n",
       "        text-align: right;\n",
       "    }\n",
       "</style>\n",
       "<table border=\"1\" class=\"dataframe\">\n",
       "  <thead>\n",
       "    <tr style=\"text-align: right;\">\n",
       "      <th></th>\n",
       "      <th>Id</th>\n",
       "      <th>SepalLengthCm</th>\n",
       "      <th>SepalWidthCm</th>\n",
       "      <th>PetalLengthCm</th>\n",
       "      <th>PetalWidthCm</th>\n",
       "    </tr>\n",
       "  </thead>\n",
       "  <tbody>\n",
       "    <tr>\n",
       "      <th>count</th>\n",
       "      <td>150.000000</td>\n",
       "      <td>150.000000</td>\n",
       "      <td>150.000000</td>\n",
       "      <td>150.000000</td>\n",
       "      <td>150.000000</td>\n",
       "    </tr>\n",
       "    <tr>\n",
       "      <th>mean</th>\n",
       "      <td>75.500000</td>\n",
       "      <td>5.843333</td>\n",
       "      <td>3.054000</td>\n",
       "      <td>3.758667</td>\n",
       "      <td>1.198667</td>\n",
       "    </tr>\n",
       "    <tr>\n",
       "      <th>std</th>\n",
       "      <td>43.445368</td>\n",
       "      <td>0.828066</td>\n",
       "      <td>0.433594</td>\n",
       "      <td>1.764420</td>\n",
       "      <td>0.763161</td>\n",
       "    </tr>\n",
       "    <tr>\n",
       "      <th>min</th>\n",
       "      <td>1.000000</td>\n",
       "      <td>4.300000</td>\n",
       "      <td>2.000000</td>\n",
       "      <td>1.000000</td>\n",
       "      <td>0.100000</td>\n",
       "    </tr>\n",
       "    <tr>\n",
       "      <th>25%</th>\n",
       "      <td>38.250000</td>\n",
       "      <td>5.100000</td>\n",
       "      <td>2.800000</td>\n",
       "      <td>1.600000</td>\n",
       "      <td>0.300000</td>\n",
       "    </tr>\n",
       "    <tr>\n",
       "      <th>50%</th>\n",
       "      <td>75.500000</td>\n",
       "      <td>5.800000</td>\n",
       "      <td>3.000000</td>\n",
       "      <td>4.350000</td>\n",
       "      <td>1.300000</td>\n",
       "    </tr>\n",
       "    <tr>\n",
       "      <th>75%</th>\n",
       "      <td>112.750000</td>\n",
       "      <td>6.400000</td>\n",
       "      <td>3.300000</td>\n",
       "      <td>5.100000</td>\n",
       "      <td>1.800000</td>\n",
       "    </tr>\n",
       "    <tr>\n",
       "      <th>max</th>\n",
       "      <td>150.000000</td>\n",
       "      <td>7.900000</td>\n",
       "      <td>4.400000</td>\n",
       "      <td>6.900000</td>\n",
       "      <td>2.500000</td>\n",
       "    </tr>\n",
       "  </tbody>\n",
       "</table>\n",
       "</div>"
      ],
      "text/plain": [
       "               Id  SepalLengthCm  SepalWidthCm  PetalLengthCm  PetalWidthCm\n",
       "count  150.000000     150.000000    150.000000     150.000000    150.000000\n",
       "mean    75.500000       5.843333      3.054000       3.758667      1.198667\n",
       "std     43.445368       0.828066      0.433594       1.764420      0.763161\n",
       "min      1.000000       4.300000      2.000000       1.000000      0.100000\n",
       "25%     38.250000       5.100000      2.800000       1.600000      0.300000\n",
       "50%     75.500000       5.800000      3.000000       4.350000      1.300000\n",
       "75%    112.750000       6.400000      3.300000       5.100000      1.800000\n",
       "max    150.000000       7.900000      4.400000       6.900000      2.500000"
      ]
     },
     "execution_count": 26,
     "metadata": {},
     "output_type": "execute_result"
    }
   ],
   "source": [
    "df.describe()"
   ]
  },
  {
   "cell_type": "code",
   "execution_count": 27,
   "id": "a4b5ab28",
   "metadata": {},
   "outputs": [
    {
     "data": {
      "text/plain": [
       "<AxesSubplot:>"
      ]
     },
     "execution_count": 27,
     "metadata": {},
     "output_type": "execute_result"
    },
    {
     "data": {
      "image/png": "[encoded data removed]",
      "text/plain": [
       "<Figure size 432x288 with 1 Axes>"
      ]
     },
     "metadata": {
      "needs_background": "light"
     },
     "output_type": "display_data"
    }
   ],
   "source": [
    "df.boxplot()"
   ]
  },
  {
   "cell_type": "code",
   "execution_count": 28,
   "id": "25e196da",
   "metadata": {},
   "outputs": [],
   "source": [
    "df.drop(columns=['Id'],axis=0,inplace=True)"
   ]
  },
  {
   "cell_type": "code",
   "execution_count": 29,
   "id": "8c1591de",
   "metadata": {},
   "outputs": [
    {
     "data": {
      "text/html": [
       "<div>\n",
       "<style scoped>\n",
       "    .dataframe tbody tr th:only-of-type {\n",
       "        vertical-align: middle;\n",
       "    }\n",
       "\n",
       "    .dataframe tbody tr th {\n",
       "        vertical-align: top;\n",
       "    }\n",
       "\n",
       "    .dataframe thead th {\n",
       "        text-align: right;\n",
       "    }\n",
       "</style>\n",
       "<table border=\"1\" class=\"dataframe\">\n",
       "  <thead>\n",
       "    <tr style=\"text-align: right;\">\n",
       "      <th></th>\n",
       "      <th>SepalLengthCm</th>\n",
       "      <th>SepalWidthCm</th>\n",
       "      <th>PetalLengthCm</th>\n",
       "      <th>PetalWidthCm</th>\n",
       "      <th>Species</th>\n",
       "    </tr>\n",
       "  </thead>\n",
       "  <tbody>\n",
       "    <tr>\n",
       "      <th>0</th>\n",
       "      <td>5.1</td>\n",
       "      <td>3.5</td>\n",
       "      <td>1.4</td>\n",
       "      <td>0.2</td>\n",
       "      <td>Iris-setosa</td>\n",
       "    </tr>\n",
       "    <tr>\n",
       "      <th>1</th>\n",
       "      <td>4.9</td>\n",
       "      <td>3.0</td>\n",
       "      <td>1.4</td>\n",
       "      <td>0.2</td>\n",
       "      <td>Iris-setosa</td>\n",
       "    </tr>\n",
       "    <tr>\n",
       "      <th>2</th>\n",
       "      <td>4.7</td>\n",
       "      <td>3.2</td>\n",
       "      <td>1.3</td>\n",
       "      <td>0.2</td>\n",
       "      <td>Iris-setosa</td>\n",
       "    </tr>\n",
       "    <tr>\n",
       "      <th>3</th>\n",
       "      <td>4.6</td>\n",
       "      <td>3.1</td>\n",
       "      <td>1.5</td>\n",
       "      <td>0.2</td>\n",
       "      <td>Iris-setosa</td>\n",
       "    </tr>\n",
       "    <tr>\n",
       "      <th>4</th>\n",
       "      <td>5.0</td>\n",
       "      <td>3.6</td>\n",
       "      <td>1.4</td>\n",
       "      <td>0.2</td>\n",
       "      <td>Iris-setosa</td>\n",
       "    </tr>\n",
       "  </tbody>\n",
       "</table>\n",
       "</div>"
      ],
      "text/plain": [
       "   SepalLengthCm  SepalWidthCm  PetalLengthCm  PetalWidthCm      Species\n",
       "0            5.1           3.5            1.4           0.2  Iris-setosa\n",
       "1            4.9           3.0            1.4           0.2  Iris-setosa\n",
       "2            4.7           3.2            1.3           0.2  Iris-setosa\n",
       "3            4.6           3.1            1.5           0.2  Iris-setosa\n",
       "4            5.0           3.6            1.4           0.2  Iris-setosa"
      ]
     },
     "execution_count": 29,
     "metadata": {},
     "output_type": "execute_result"
    }
   ],
   "source": [
    "df.head()"
   ]
  },
  {
   "cell_type": "code",
   "execution_count": 30,
   "id": "eb0a1c31",
   "metadata": {},
   "outputs": [
    {
     "data": {
      "text/plain": [
       "<AxesSubplot:>"
      ]
     },
     "execution_count": 30,
     "metadata": {},
     "output_type": "execute_result"
    },
    {
     "data": {
      "image/png": "[encoded data removed]",
      "text/plain": [
       "<Figure size 432x288 with 1 Axes>"
      ]
     },
     "metadata": {
      "needs_background": "light"
     },
     "output_type": "display_data"
    }
   ],
   "source": [
    "df.boxplot()"
   ]
  },
  {
   "cell_type": "code",
   "execution_count": 33,
   "id": "a17759c7",
   "metadata": {},
   "outputs": [],
   "source": [
    "l1=df.groupby(df['Species']).describe()"
   ]
  },
  {
   "cell_type": "code",
   "execution_count": 35,
   "id": "c3453184",
   "metadata": {
    "scrolled": true
   },
   "outputs": [
    {
     "name": "stdout",
     "output_type": "stream",
     "text": [
      "                 count   mean       std  min    25%  50%  75%  max\n",
      "Species                                                           \n",
      "Iris-setosa       50.0  5.006  0.352490  4.3  4.800  5.0  5.2  5.8\n",
      "Iris-versicolor   50.0  5.936  0.516171  4.9  5.600  5.9  6.3  7.0\n",
      "Iris-virginica    50.0  6.588  0.635880  4.9  6.225  6.5  6.9  7.9\n"
     ]
    }
   ],
   "source": [
    "print(l1['SepalLengthCm'])"
   ]
  },
  {
   "cell_type": "code",
   "execution_count": 36,
   "id": "a12fb208",
   "metadata": {},
   "outputs": [
    {
     "name": "stdout",
     "output_type": "stream",
     "text": [
      "                 count   mean       std  min    25%  50%    75%  max\n",
      "Species                                                             \n",
      "Iris-setosa       50.0  3.418  0.381024  2.3  3.125  3.4  3.675  4.4\n",
      "Iris-versicolor   50.0  2.770  0.313798  2.0  2.525  2.8  3.000  3.4\n",
      "Iris-virginica    50.0  2.974  0.322497  2.2  2.800  3.0  3.175  3.8\n"
     ]
    }
   ],
   "source": [
    "print(l1['SepalWidthCm'])"
   ]
  },
  {
   "cell_type": "code",
   "execution_count": 41,
   "id": "769b3402",
   "metadata": {},
   "outputs": [
    {
     "data": {
      "text/plain": [
       "3.0"
      ]
     },
     "execution_count": 41,
     "metadata": {},
     "output_type": "execute_result"
    }
   ],
   "source": [
    "#df_group=df.groupby(df['Species']).quantile(df['SepalWidthCm'],50)\n",
    "np.percentile(df['SepalWidthCm'],50)"
   ]
  },
  {
   "cell_type": "code",
   "execution_count": 40,
   "id": "1b2bbebd",
   "metadata": {},
   "outputs": [
    {
     "name": "stdout",
     "output_type": "stream",
     "text": [
      "('Iris-setosa',     SepalLengthCm  SepalWidthCm  PetalLengthCm  PetalWidthCm      Species\n",
      "0             5.1           3.5            1.4           0.2  Iris-setosa\n",
      "1             4.9           3.0            1.4           0.2  Iris-setosa\n",
      "2             4.7           3.2            1.3           0.2  Iris-setosa\n",
      "3             4.6           3.1            1.5           0.2  Iris-setosa\n",
      "4             5.0           3.6            1.4           0.2  Iris-setosa\n",
      "5             5.4           3.9            1.7           0.4  Iris-setosa\n",
      "6             4.6           3.4            1.4           0.3  Iris-setosa\n",
      "7             5.0           3.4            1.5           0.2  Iris-setosa\n",
      "8             4.4           2.9            1.4           0.2  Iris-setosa\n",
      "9             4.9           3.1            1.5           0.1  Iris-setosa\n",
      "10            5.4           3.7            1.5           0.2  Iris-setosa\n",
      "11            4.8           3.4            1.6           0.2  Iris-setosa\n",
      "12            4.8           3.0            1.4           0.1  Iris-setosa\n",
      "13            4.3           3.0            1.1           0.1  Iris-setosa\n",
      "14            5.8           4.0            1.2           0.2  Iris-setosa\n",
      "15            5.7           4.4            1.5           0.4  Iris-setosa\n",
      "16            5.4           3.9            1.3           0.4  Iris-setosa\n",
      "17            5.1           3.5            1.4           0.3  Iris-setosa\n",
      "18            5.7           3.8            1.7           0.3  Iris-setosa\n",
      "19            5.1           3.8            1.5           0.3  Iris-setosa\n",
      "20            5.4           3.4            1.7           0.2  Iris-setosa\n",
      "21            5.1           3.7            1.5           0.4  Iris-setosa\n",
      "22            4.6           3.6            1.0           0.2  Iris-setosa\n",
      "23            5.1           3.3            1.7           0.5  Iris-setosa\n",
      "24            4.8           3.4            1.9           0.2  Iris-setosa\n",
      "25            5.0           3.0            1.6           0.2  Iris-setosa\n",
      "26            5.0           3.4            1.6           0.4  Iris-setosa\n",
      "27            5.2           3.5            1.5           0.2  Iris-setosa\n",
      "28            5.2           3.4            1.4           0.2  Iris-setosa\n",
      "29            4.7           3.2            1.6           0.2  Iris-setosa\n",
      "30            4.8           3.1            1.6           0.2  Iris-setosa\n",
      "31            5.4           3.4            1.5           0.4  Iris-setosa\n",
      "32            5.2           4.1            1.5           0.1  Iris-setosa\n",
      "33            5.5           4.2            1.4           0.2  Iris-setosa\n",
      "34            4.9           3.1            1.5           0.1  Iris-setosa\n",
      "35            5.0           3.2            1.2           0.2  Iris-setosa\n",
      "36            5.5           3.5            1.3           0.2  Iris-setosa\n",
      "37            4.9           3.1            1.5           0.1  Iris-setosa\n",
      "38            4.4           3.0            1.3           0.2  Iris-setosa\n",
      "39            5.1           3.4            1.5           0.2  Iris-setosa\n",
      "40            5.0           3.5            1.3           0.3  Iris-setosa\n",
      "41            4.5           2.3            1.3           0.3  Iris-setosa\n",
      "42            4.4           3.2            1.3           0.2  Iris-setosa\n",
      "43            5.0           3.5            1.6           0.6  Iris-setosa\n",
      "44            5.1           3.8            1.9           0.4  Iris-setosa\n",
      "45            4.8           3.0            1.4           0.3  Iris-setosa\n",
      "46            5.1           3.8            1.6           0.2  Iris-setosa\n",
      "47            4.6           3.2            1.4           0.2  Iris-setosa\n",
      "48            5.3           3.7            1.5           0.2  Iris-setosa\n",
      "49            5.0           3.3            1.4           0.2  Iris-setosa)\n",
      "('Iris-versicolor',     SepalLengthCm  SepalWidthCm  PetalLengthCm  PetalWidthCm          Species\n",
      "50            7.0           3.2            4.7           1.4  Iris-versicolor\n",
      "51            6.4           3.2            4.5           1.5  Iris-versicolor\n",
      "52            6.9           3.1            4.9           1.5  Iris-versicolor\n",
      "53            5.5           2.3            4.0           1.3  Iris-versicolor\n",
      "54            6.5           2.8            4.6           1.5  Iris-versicolor\n",
      "55            5.7           2.8            4.5           1.3  Iris-versicolor\n",
      "56            6.3           3.3            4.7           1.6  Iris-versicolor\n",
      "57            4.9           2.4            3.3           1.0  Iris-versicolor\n",
      "58            6.6           2.9            4.6           1.3  Iris-versicolor\n",
      "59            5.2           2.7            3.9           1.4  Iris-versicolor\n",
      "60            5.0           2.0            3.5           1.0  Iris-versicolor\n",
      "61            5.9           3.0            4.2           1.5  Iris-versicolor\n",
      "62            6.0           2.2            4.0           1.0  Iris-versicolor\n",
      "63            6.1           2.9            4.7           1.4  Iris-versicolor\n",
      "64            5.6           2.9            3.6           1.3  Iris-versicolor\n",
      "65            6.7           3.1            4.4           1.4  Iris-versicolor\n",
      "66            5.6           3.0            4.5           1.5  Iris-versicolor\n",
      "67            5.8           2.7            4.1           1.0  Iris-versicolor\n",
      "68            6.2           2.2            4.5           1.5  Iris-versicolor\n",
      "69            5.6           2.5            3.9           1.1  Iris-versicolor\n",
      "70            5.9           3.2            4.8           1.8  Iris-versicolor\n",
      "71            6.1           2.8            4.0           1.3  Iris-versicolor\n",
      "72            6.3           2.5            4.9           1.5  Iris-versicolor\n",
      "73            6.1           2.8            4.7           1.2  Iris-versicolor\n",
      "74            6.4           2.9            4.3           1.3  Iris-versicolor\n",
      "75            6.6           3.0            4.4           1.4  Iris-versicolor\n",
      "76            6.8           2.8            4.8           1.4  Iris-versicolor\n",
      "77            6.7           3.0            5.0           1.7  Iris-versicolor\n",
      "78            6.0           2.9            4.5           1.5  Iris-versicolor\n",
      "79            5.7           2.6            3.5           1.0  Iris-versicolor\n",
      "80            5.5           2.4            3.8           1.1  Iris-versicolor\n",
      "81            5.5           2.4            3.7           1.0  Iris-versicolor\n",
      "82            5.8           2.7            3.9           1.2  Iris-versicolor\n",
      "83            6.0           2.7            5.1           1.6  Iris-versicolor\n",
      "84            5.4           3.0            4.5           1.5  Iris-versicolor\n",
      "85            6.0           3.4            4.5           1.6  Iris-versicolor\n",
      "86            6.7           3.1            4.7           1.5  Iris-versicolor\n",
      "87            6.3           2.3            4.4           1.3  Iris-versicolor\n",
      "88            5.6           3.0            4.1           1.3  Iris-versicolor\n",
      "89            5.5           2.5            4.0           1.3  Iris-versicolor\n",
      "90            5.5           2.6            4.4           1.2  Iris-versicolor\n",
      "91            6.1           3.0            4.6           1.4  Iris-versicolor\n",
      "92            5.8           2.6            4.0           1.2  Iris-versicolor\n",
      "93            5.0           2.3            3.3           1.0  Iris-versicolor\n",
      "94            5.6           2.7            4.2           1.3  Iris-versicolor\n",
      "95            5.7           3.0            4.2           1.2  Iris-versicolor\n",
      "96            5.7           2.9            4.2           1.3  Iris-versicolor\n",
      "97            6.2           2.9            4.3           1.3  Iris-versicolor\n",
      "98            5.1           2.5            3.0           1.1  Iris-versicolor\n",
      "99            5.7           2.8            4.1           1.3  Iris-versicolor)\n",
      "('Iris-virginica',      SepalLengthCm  SepalWidthCm  PetalLengthCm  PetalWidthCm         Species\n",
      "100            6.3           3.3            6.0           2.5  Iris-virginica\n",
      "101            5.8           2.7            5.1           1.9  Iris-virginica\n",
      "102            7.1           3.0            5.9           2.1  Iris-virginica\n",
      "103            6.3           2.9            5.6           1.8  Iris-virginica\n",
      "104            6.5           3.0            5.8           2.2  Iris-virginica\n",
      "105            7.6           3.0            6.6           2.1  Iris-virginica\n",
      "106            4.9           2.5            4.5           1.7  Iris-virginica\n",
      "107            7.3           2.9            6.3           1.8  Iris-virginica\n",
      "108            6.7           2.5            5.8           1.8  Iris-virginica\n",
      "109            7.2           3.6            6.1           2.5  Iris-virginica\n",
      "110            6.5           3.2            5.1           2.0  Iris-virginica\n",
      "111            6.4           2.7            5.3           1.9  Iris-virginica\n",
      "112            6.8           3.0            5.5           2.1  Iris-virginica\n",
      "113            5.7           2.5            5.0           2.0  Iris-virginica\n",
      "114            5.8           2.8            5.1           2.4  Iris-virginica\n",
      "115            6.4           3.2            5.3           2.3  Iris-virginica\n",
      "116            6.5           3.0            5.5           1.8  Iris-virginica\n",
      "117            7.7           3.8            6.7           2.2  Iris-virginica\n",
      "118            7.7           2.6            6.9           2.3  Iris-virginica\n",
      "119            6.0           2.2            5.0           1.5  Iris-virginica\n",
      "120            6.9           3.2            5.7           2.3  Iris-virginica\n",
      "121            5.6           2.8            4.9           2.0  Iris-virginica\n",
      "122            7.7           2.8            6.7           2.0  Iris-virginica\n",
      "123            6.3           2.7            4.9           1.8  Iris-virginica\n",
      "124            6.7           3.3            5.7           2.1  Iris-virginica\n",
      "125            7.2           3.2            6.0           1.8  Iris-virginica\n",
      "126            6.2           2.8            4.8           1.8  Iris-virginica\n",
      "127            6.1           3.0            4.9           1.8  Iris-virginica\n",
      "128            6.4           2.8            5.6           2.1  Iris-virginica\n",
      "129            7.2           3.0            5.8           1.6  Iris-virginica\n",
      "130            7.4           2.8            6.1           1.9  Iris-virginica\n",
      "131            7.9           3.8            6.4           2.0  Iris-virginica\n",
      "132            6.4           2.8            5.6           2.2  Iris-virginica\n",
      "133            6.3           2.8            5.1           1.5  Iris-virginica\n",
      "134            6.1           2.6            5.6           1.4  Iris-virginica\n",
      "135            7.7           3.0            6.1           2.3  Iris-virginica\n",
      "136            6.3           3.4            5.6           2.4  Iris-virginica\n",
      "137            6.4           3.1            5.5           1.8  Iris-virginica\n",
      "138            6.0           3.0            4.8           1.8  Iris-virginica\n",
      "139            6.9           3.1            5.4           2.1  Iris-virginica\n",
      "140            6.7           3.1            5.6           2.4  Iris-virginica\n",
      "141            6.9           3.1            5.1           2.3  Iris-virginica\n",
      "142            5.8           2.7            5.1           1.9  Iris-virginica\n",
      "143            6.8           3.2            5.9           2.3  Iris-virginica\n",
      "144            6.7           3.3            5.7           2.5  Iris-virginica\n",
      "145            6.7           3.0            5.2           2.3  Iris-virginica\n",
      "146            6.3           2.5            5.0           1.9  Iris-virginica\n",
      "147            6.5           3.0            5.2           2.0  Iris-virginica\n",
      "148            6.2           3.4            5.4           2.3  Iris-virginica\n",
      "149            5.9           3.0            5.1           1.8  Iris-virginica)\n"
     ]
    }
   ],
   "source": [
    "for i in df_group:\n",
    " print(i)"
   ]
  },
  {
   "cell_type": "code",
   "execution_count": null,
   "id": "779cfaf3",
   "metadata": {},
   "outputs": [],
   "source": []
  }
 ],
 "metadata": {
  "kernelspec": {
   "display_name": "Python 3 (ipykernel)",
   "language": "python",
   "name": "python3"
  },
  "language_info": {
   "codemirror_mode": {
    "name": "ipython",
    "version": 3
   },
   "file_extension": ".py",
   "mimetype": "text/x-python",
   "name": "python",
   "nbconvert_exporter": "python",
   "pygments_lexer": "ipython3",
   "version": "3.9.7"
  }
 },
 "nbformat": 4,
 "nbformat_minor": 5
}
